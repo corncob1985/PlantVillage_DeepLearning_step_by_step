{
 "cells": [
  {
   "cell_type": "markdown",
   "metadata": {},
   "source": [
    "# The goal of this project"
   ]
  },
  {
   "cell_type": "raw",
   "metadata": {},
   "source": [
    "This project is trying to record every detail in the process of building a sucessful deep learning model. All of the analysis are based on PlantVillage dataset (https://github.com/salathegroup/plantvillage_deeplearning_paper_dataset)."
   ]
  },
  {
   "cell_type": "markdown",
   "metadata": {},
   "source": [
    "# The structure of this project"
   ]
  },
  {
   "cell_type": "raw",
   "metadata": {},
   "source": [
    "The planned structure of project is showing below, right now I only finished the dataset_split.ipynb part, in which I try to get some insight of the PlantVillage dataset, and make the train/test set split with and without consideration of class imbalanced problem, which is ignored in the original publication (Mohanty SP, Hughes DP, Salathé M. Using deep learning for image-based plant disease detection. Front Plant Sci 2016; 7:1419.). Next, I will use classic Convolution Neural Network (CNN) architechture, such as AlexNet, VGG 16/19, Xception and ResNet50 to train the plant disease model. For learning rate is one of the most important hyperparameter in deep learning, and I will take advantage of the most advanced strategies to figure out the optimal value and optimal traing process, such as differential learning rates, cyclical learning rates, Cosine annealing, stochasitic gradient descent with warm restarts, and so on."
   ]
  },
  {
   "cell_type": "raw",
   "metadata": {},
   "source": [
    "|--- plant_disease_detection_project\n",
    "|     |--- pdd_AlexNet.ipynb (coming soon ...)\n",
    "|     |--- pdd_VGGNet16.ipynb (coming soon ...)\n",
    "|     |--- pdd_VGGNet19.ipynb (coming soon ...)\n",
    "|     |--- pdd_Xception.ipynb (coming soon ...)\n",
    "|     |--- pdd_ResNet50.ipynb (coming soon ...)\n",
    "|     |--- dataset_split.ipynb\n",
    "|     |--- raw_datasets\n",
    "|     |    |--- images\n",
    "|     |    |    |--- plantVillage\n",
    "|     |    |    |    |--- Apple___Apple_scab\n",
    "|     |    |    |    |    |--- *.jpg\n",
    "|     |    |    |    |--- Tomato___healthy\n",
    "|     |    |    |    |    |--- *.jpg\n",
    "|     |    |--- csvs\n",
    "|     |    |    |--- plantVillage_map\n",
    "|     |    |    |    |--- Apple_Apple_scab.csv\n",
    "|     |    |    |    |--- Tomato_healthy.csv\n",
    "|     |--- processed_datasets\n",
    "|     |    |--- plantVillage\n",
    "|     |    |    |--- 80-20\n",
    "|     |    |    |    |--- train_*.txt\n",
    "|     |    |    |    |--- test_*.txt \n",
    "|     |    |    |--- leaf-map.json\n",
    "|     |    |    |--- duplicates.txt"
   ]
  },
  {
   "cell_type": "markdown",
   "metadata": {},
   "source": [
    "# The prerequisite of hardware and software"
   ]
  },
  {
   "cell_type": "raw",
   "metadata": {},
   "source": [
    "For image task, I sugggest to deploy a computer with at least one GPU of accelerated graphics memory >= 6G, 12G is much better. For software part, I highly recommend NVIDIA GPU driver + Anaconda + jupyter notebook + pycharm, in which Anaconda is the most important, you can easily use 'conda create' command to create correponding virtual environment with the popular deep learning frames, such as tensorflow, keras, pytorch, fast.ai libraries, and without any annoying operations among differnt versions of CUDA and cudnn and deep learning frames. I will use \n",
    "anaconda python==3.6\n",
    "cudatoolkit==9.2\n",
    "tensorflow-gpu==1.12.0\n",
    "keras==2.2.4\n",
    "pytorch\n",
    "torchvision\n",
    "fastai\n",
    "opencv==3.4.2\n",
    "in my project."
   ]
  },
  {
   "cell_type": "markdown",
   "metadata": {},
   "source": [
    "# Welcome to contact me"
   ]
  },
  {
   "cell_type": "raw",
   "metadata": {},
   "source": [
    "When you have any problem relating to this project, please send to wangyuting@telebody.cn"
   ]
  },
  {
   "cell_type": "code",
   "execution_count": null,
   "metadata": {},
   "outputs": [],
   "source": []
  }
 ],
 "metadata": {
  "kernelspec": {
   "display_name": "Python 3",
   "language": "python",
   "name": "python3"
  },
  "language_info": {
   "codemirror_mode": {
    "name": "ipython",
    "version": 3
   },
   "file_extension": ".py",
   "mimetype": "text/x-python",
   "name": "python",
   "nbconvert_exporter": "python",
   "pygments_lexer": "ipython3",
   "version": "3.6.7"
  },
  "toc": {
   "base_numbering": 1,
   "nav_menu": {},
   "number_sections": true,
   "sideBar": true,
   "skip_h1_title": false,
   "title_cell": "Table of Contents",
   "title_sidebar": "Contents",
   "toc_cell": false,
   "toc_position": {},
   "toc_section_display": true,
   "toc_window_display": false
  }
 },
 "nbformat": 4,
 "nbformat_minor": 2
}
