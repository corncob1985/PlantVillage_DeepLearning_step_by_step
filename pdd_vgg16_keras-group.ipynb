{
 "cells": [
  {
   "cell_type": "code",
   "execution_count": 1,
   "metadata": {},
   "outputs": [],
   "source": [
    "%reload_ext autoreload\n",
    "%autoreload 2\n",
    "%matplotlib inline"
   ]
  },
  {
   "cell_type": "code",
   "execution_count": 2,
   "metadata": {},
   "outputs": [
    {
     "name": "stderr",
     "output_type": "stream",
     "text": [
      "Using TensorFlow backend.\n"
     ]
    }
   ],
   "source": [
    "import pandas as pd\n",
    "import numpy as np\n",
    "import pathlib\n",
    "from keras.applications.vgg16 import VGG16\n",
    "from keras.preprocessing.image import ImageDataGenerator\n",
    "from keras import models\n",
    "from keras import layers\n",
    "from keras import optimizers\n",
    "from keras import metrics\n",
    "from keras import backend as K\n",
    "import matplotlib.pyplot as plt\n",
    "import tensorflow as tf\n",
    "import os"
   ]
  },
  {
   "cell_type": "code",
   "execution_count": 3,
   "metadata": {},
   "outputs": [],
   "source": [
    "os.environ[\"CUDA_VISIBLE_DEVICES\"] = \"0\"\n",
    "gpu_options = tf.GPUOptions(allow_growth=True)\n",
    "sess = tf.Session(config=tf.ConfigProto(gpu_options=gpu_options))"
   ]
  },
  {
   "cell_type": "code",
   "execution_count": 4,
   "metadata": {},
   "outputs": [
    {
     "name": "stdout",
     "output_type": "stream",
     "text": [
      "_________________________________________________________________\n",
      "Layer (type)                 Output Shape              Param #   \n",
      "=================================================================\n",
      "input_1 (InputLayer)         (None, 224, 224, 3)       0         \n",
      "_________________________________________________________________\n",
      "block1_conv1 (Conv2D)        (None, 224, 224, 64)      1792      \n",
      "_________________________________________________________________\n",
      "block1_conv2 (Conv2D)        (None, 224, 224, 64)      36928     \n",
      "_________________________________________________________________\n",
      "block1_pool (MaxPooling2D)   (None, 112, 112, 64)      0         \n",
      "_________________________________________________________________\n",
      "block2_conv1 (Conv2D)        (None, 112, 112, 128)     73856     \n",
      "_________________________________________________________________\n",
      "block2_conv2 (Conv2D)        (None, 112, 112, 128)     147584    \n",
      "_________________________________________________________________\n",
      "block2_pool (MaxPooling2D)   (None, 56, 56, 128)       0         \n",
      "_________________________________________________________________\n",
      "block3_conv1 (Conv2D)        (None, 56, 56, 256)       295168    \n",
      "_________________________________________________________________\n",
      "block3_conv2 (Conv2D)        (None, 56, 56, 256)       590080    \n",
      "_________________________________________________________________\n",
      "block3_conv3 (Conv2D)        (None, 56, 56, 256)       590080    \n",
      "_________________________________________________________________\n",
      "block3_pool (MaxPooling2D)   (None, 28, 28, 256)       0         \n",
      "_________________________________________________________________\n",
      "block4_conv1 (Conv2D)        (None, 28, 28, 512)       1180160   \n",
      "_________________________________________________________________\n",
      "block4_conv2 (Conv2D)        (None, 28, 28, 512)       2359808   \n",
      "_________________________________________________________________\n",
      "block4_conv3 (Conv2D)        (None, 28, 28, 512)       2359808   \n",
      "_________________________________________________________________\n",
      "block4_pool (MaxPooling2D)   (None, 14, 14, 512)       0         \n",
      "_________________________________________________________________\n",
      "block5_conv1 (Conv2D)        (None, 14, 14, 512)       2359808   \n",
      "_________________________________________________________________\n",
      "block5_conv2 (Conv2D)        (None, 14, 14, 512)       2359808   \n",
      "_________________________________________________________________\n",
      "block5_conv3 (Conv2D)        (None, 14, 14, 512)       2359808   \n",
      "_________________________________________________________________\n",
      "block5_pool (MaxPooling2D)   (None, 7, 7, 512)         0         \n",
      "=================================================================\n",
      "Total params: 14,714,688\n",
      "Trainable params: 14,714,688\n",
      "Non-trainable params: 0\n",
      "_________________________________________________________________\n"
     ]
    }
   ],
   "source": [
    "conv_base = VGG16(weights='imagenet', \n",
    "                     include_top=False,\n",
    "                     input_shape=(224, 224, 3))\n",
    "conv_base.summary()"
   ]
  },
  {
   "cell_type": "code",
   "execution_count": 5,
   "metadata": {},
   "outputs": [
    {
     "name": "stdout",
     "output_type": "stream",
     "text": [
      "_________________________________________________________________\n",
      "Layer (type)                 Output Shape              Param #   \n",
      "=================================================================\n",
      "input_1 (InputLayer)         (None, 224, 224, 3)       0         \n",
      "_________________________________________________________________\n",
      "block1_conv1 (Conv2D)        (None, 224, 224, 64)      1792      \n",
      "_________________________________________________________________\n",
      "block1_conv2 (Conv2D)        (None, 224, 224, 64)      36928     \n",
      "_________________________________________________________________\n",
      "block1_pool (MaxPooling2D)   (None, 112, 112, 64)      0         \n",
      "_________________________________________________________________\n",
      "block2_conv1 (Conv2D)        (None, 112, 112, 128)     73856     \n",
      "_________________________________________________________________\n",
      "block2_conv2 (Conv2D)        (None, 112, 112, 128)     147584    \n",
      "_________________________________________________________________\n",
      "block2_pool (MaxPooling2D)   (None, 56, 56, 128)       0         \n",
      "_________________________________________________________________\n",
      "block3_conv1 (Conv2D)        (None, 56, 56, 256)       295168    \n",
      "_________________________________________________________________\n",
      "block3_conv2 (Conv2D)        (None, 56, 56, 256)       590080    \n",
      "_________________________________________________________________\n",
      "block3_conv3 (Conv2D)        (None, 56, 56, 256)       590080    \n",
      "_________________________________________________________________\n",
      "block3_pool (MaxPooling2D)   (None, 28, 28, 256)       0         \n",
      "_________________________________________________________________\n",
      "block4_conv1 (Conv2D)        (None, 28, 28, 512)       1180160   \n",
      "_________________________________________________________________\n",
      "block4_conv2 (Conv2D)        (None, 28, 28, 512)       2359808   \n",
      "_________________________________________________________________\n",
      "block4_conv3 (Conv2D)        (None, 28, 28, 512)       2359808   \n",
      "_________________________________________________________________\n",
      "block4_pool (MaxPooling2D)   (None, 14, 14, 512)       0         \n",
      "_________________________________________________________________\n",
      "block5_conv1 (Conv2D)        (None, 14, 14, 512)       2359808   \n",
      "_________________________________________________________________\n",
      "block5_conv2 (Conv2D)        (None, 14, 14, 512)       2359808   \n",
      "_________________________________________________________________\n",
      "block5_conv3 (Conv2D)        (None, 14, 14, 512)       2359808   \n",
      "_________________________________________________________________\n",
      "block5_pool (MaxPooling2D)   (None, 7, 7, 512)         0         \n",
      "_________________________________________________________________\n",
      "flatten_1 (Flatten)          (None, 25088)             0         \n",
      "_________________________________________________________________\n",
      "dense_1 (Dense)              (None, 256)               6422784   \n",
      "_________________________________________________________________\n",
      "dropout_1 (Dropout)          (None, 256)               0         \n",
      "_________________________________________________________________\n",
      "dense_2 (Dense)              (None, 38)                9766      \n",
      "=================================================================\n",
      "Total params: 21,147,238\n",
      "Trainable params: 21,147,238\n",
      "Non-trainable params: 0\n",
      "_________________________________________________________________\n"
     ]
    }
   ],
   "source": [
    "flat_layer = layers.Flatten()(conv_base.output)\n",
    "dense_layer_1 = layers.Dense(256, activation='relu', kernel_initializer='he_normal')(flat_layer)\n",
    "dropout_layer = layers.Dropout(0.5)(dense_layer_1)\n",
    "dense_layer_2 = layers.Dense(38, activation='softmax', kernel_initializer='he_normal')(dropout_layer)\n",
    "model = models.Model(inputs=conv_base.input, outputs=dense_layer_2)\n",
    "model.summary()"
   ]
  },
  {
   "cell_type": "code",
   "execution_count": 6,
   "metadata": {},
   "outputs": [
    {
     "name": "stdout",
     "output_type": "stream",
     "text": [
      "                                       relative_path label\n",
      "0  Orange___Haunglongbing_(Citrus_greening)/UF.Ci...    15\n",
      "1  Orange___Haunglongbing_(Citrus_greening)/CREC_...    15\n",
      "2         Squash___Powdery_mildew/MD_Powd.M 1073.JPG    25\n",
      "3  Cherry_(including_sour)___Powdery_mildew/FREC_...     5\n",
      "4                   Soybean___healthy/RS_HL 5527.JPG    24\n",
      "                                           relative_path label\n",
      "38061  Orange___Haunglongbing_(Citrus_greening)/CREC_...    15\n",
      "38062  Orange___Haunglongbing_(Citrus_greening)/CREC_...    15\n",
      "38063  Cherry_(including_sour)___Powdery_mildew/FREC_...     5\n",
      "38064           Tomato___Late_blight/GHLB2 Leaf 9017.JPG    30\n",
      "38065                 Grape___healthy/Mt.N.V_HL 6114.JPG    14\n"
     ]
    }
   ],
   "source": [
    "def get_train_for_keras(input_csv):\n",
    "    original_data = pd.read_csv(input_csv)\n",
    "    df_train_for_keras = original_data.loc[original_data['is_valid'] == False, ['relative_path', 'label']]\n",
    "    df_train_for_keras = df_train_for_keras.astype(str)\n",
    "    return df_train_for_keras\n",
    "\n",
    "def get_val_for_keras(input_csv):\n",
    "    original_data = pd.read_csv(input_csv)\n",
    "    df_val_for_keras = original_data.loc[original_data['is_valid'] == True, ['relative_path', 'label']]\n",
    "    df_val_for_keras = df_val_for_keras.astype(str)\n",
    "    return df_val_for_keras\n",
    "\n",
    "df_train_for_keras = get_train_for_keras(str(pathlib.Path.cwd()) + \"/temp/\" + \"train_val_group.csv\")\n",
    "print(df_train_for_keras[:5])\n",
    "\n",
    "df_val_for_keras = get_val_for_keras(str(pathlib.Path.cwd()) + \"/temp/\" + \"train_val_group.csv\")\n",
    "print(df_val_for_keras[:5])\n",
    "\n",
    "directory = str(pathlib.Path.cwd()) + \"/raw_datasets/images/plantVillage\""
   ]
  },
  {
   "cell_type": "code",
   "execution_count": 7,
   "metadata": {},
   "outputs": [],
   "source": [
    "train_datagen = ImageDataGenerator(featurewise_center=True,\n",
    "                                   featurewise_std_normalization=True,\n",
    "                                   rescale=1./255,\n",
    "                                   rotation_range=25,\n",
    "                                   horizontal_flip=True)\n",
    "val_datagen = ImageDataGenerator(rescale=1./255)"
   ]
  },
  {
   "cell_type": "code",
   "execution_count": 8,
   "metadata": {},
   "outputs": [
    {
     "name": "stdout",
     "output_type": "stream",
     "text": [
      "Found 38061 images belonging to 38 classes.\n",
      "Found 5274 images belonging to 38 classes.\n"
     ]
    }
   ],
   "source": [
    "train_generator = train_datagen.flow_from_dataframe(df_train_for_keras,\n",
    "                                                    directory=directory,\n",
    "                                                    x_col='relative_path',\n",
    "                                                    y_col='label',\n",
    "                                                    target_size=(224, 224),\n",
    "                                                    batch_size=64,\n",
    "                                                    drop_duplicates=False)\n",
    "val_generator = val_datagen.flow_from_dataframe(df_val_for_keras,\n",
    "                                                directory=directory,\n",
    "                                                x_col='relative_path',\n",
    "                                                y_col='label',\n",
    "                                                target_size=(224, 224),\n",
    "                                                batch_size=64,\n",
    "                                                shuffle=False,\n",
    "                                                drop_duplicates=False)"
   ]
  },
  {
   "cell_type": "code",
   "execution_count": 9,
   "metadata": {},
   "outputs": [],
   "source": [
    "conv_base.trainable = False"
   ]
  },
  {
   "cell_type": "code",
   "execution_count": 10,
   "metadata": {},
   "outputs": [
    {
     "name": "stdout",
     "output_type": "stream",
     "text": [
      "Epoch 1/10\n",
      "595/595 [==============================] - 489s 822ms/step - loss: 2.6795 - categorical_accuracy: 0.2957 - val_loss: 1.1299 - val_categorical_accuracy: 0.6570\n",
      "Epoch 2/10\n",
      "595/595 [==============================] - 481s 809ms/step - loss: 0.8498 - categorical_accuracy: 0.7392 - val_loss: 0.3250 - val_categorical_accuracy: 0.8936\n",
      "Epoch 3/10\n",
      "595/595 [==============================] - 479s 805ms/step - loss: 0.3515 - categorical_accuracy: 0.8859 - val_loss: 0.1916 - val_categorical_accuracy: 0.9334\n",
      "Epoch 4/10\n",
      "595/595 [==============================] - 479s 806ms/step - loss: 0.2164 - categorical_accuracy: 0.9303 - val_loss: 0.1808 - val_categorical_accuracy: 0.9416\n",
      "Epoch 5/10\n",
      "595/595 [==============================] - 482s 810ms/step - loss: 0.1483 - categorical_accuracy: 0.9527 - val_loss: 0.1005 - val_categorical_accuracy: 0.9664\n",
      "Epoch 6/10\n",
      "595/595 [==============================] - 485s 816ms/step - loss: 0.1143 - categorical_accuracy: 0.9628 - val_loss: 0.1190 - val_categorical_accuracy: 0.9592\n",
      "Epoch 7/10\n",
      "595/595 [==============================] - 487s 819ms/step - loss: 0.0879 - categorical_accuracy: 0.9724 - val_loss: 0.0544 - val_categorical_accuracy: 0.9818\n",
      "Epoch 8/10\n",
      "595/595 [==============================] - 478s 804ms/step - loss: 0.0673 - categorical_accuracy: 0.9780 - val_loss: 0.0709 - val_categorical_accuracy: 0.9791\n",
      "Epoch 9/10\n",
      "595/595 [==============================] - 493s 828ms/step - loss: 0.0592 - categorical_accuracy: 0.9808 - val_loss: 0.0515 - val_categorical_accuracy: 0.9837\n",
      "Epoch 10/10\n",
      "595/595 [==============================] - 478s 803ms/step - loss: 0.0467 - categorical_accuracy: 0.9849 - val_loss: 0.0489 - val_categorical_accuracy: 0.9852\n"
     ]
    }
   ],
   "source": [
    "opt = optimizers.SGD(lr=0.005, momentum=0.9, decay=0.0005)\n",
    "\n",
    "model.compile(loss='categorical_crossentropy',\n",
    "              optimizer=opt,\n",
    "              metrics=[metrics.categorical_accuracy])\n",
    "\n",
    "history = model.fit_generator(train_generator,\n",
    "                              steps_per_epoch=595,\n",
    "                              epochs=10,\n",
    "                              validation_data=val_generator,\n",
    "                              validation_steps=83)\n",
    "\n",
    "model.save(str(pathlib.Path.cwd()) + \"/models/\" + \"vgg16_keras_stage_1_group.h5\")"
   ]
  },
  {
   "cell_type": "code",
   "execution_count": 11,
   "metadata": {},
   "outputs": [
    {
     "data": {
      "image/png": "[encoded data removed]",
      "text/plain": [
       "<Figure size 432x288 with 1 Axes>"
      ]
     },
     "metadata": {
      "needs_background": "light"
     },
     "output_type": "display_data"
    },
    {
     "data": {
      "image/png": "[encoded data removed]",
      "text/plain": [
       "<Figure size 432x288 with 1 Axes>"
      ]
     },
     "metadata": {
      "needs_background": "light"
     },
     "output_type": "display_data"
    }
   ],
   "source": [
    "acc = history.history['categorical_accuracy']\n",
    "val_acc = history.history['val_categorical_accuracy']\n",
    "loss = history.history['loss']\n",
    "val_loss = history.history['val_loss']\n",
    "epochs = range(1, len(acc) + 1)\n",
    "plt.plot(epochs, acc, 'bo', label='Training acc')\n",
    "plt.plot(epochs, val_acc, 'b', label='Validation acc')\n",
    "plt.title('Training and validation accuracy')\n",
    "plt.legend()\n",
    "plt.figure()\n",
    "plt.plot(epochs, loss, 'bo', label='Training loss')\n",
    "plt.plot(epochs, val_loss, 'b', label='Validation loss')\n",
    "plt.title('Training and validation loss')\n",
    "plt.legend()\n",
    "plt.show()"
   ]
  },
  {
   "cell_type": "code",
   "execution_count": 11,
   "metadata": {},
   "outputs": [],
   "source": [
    "K.clear_session()\n",
    "#for each_layer in model.layers[:15]:\n",
    "#    each_layer.trainable = False\n",
    "    \n",
    "#for each_layer in model.layers[15:]:\n",
    "#    each_layer.trainable = True"
   ]
  },
  {
   "cell_type": "code",
   "execution_count": 17,
   "metadata": {},
   "outputs": [
    {
     "name": "stdout",
     "output_type": "stream",
     "text": [
      "Epoch 1/10\n",
      "595/595 [==============================] - 474s 797ms/step - loss: 0.0165 - categorical_accuracy: 0.9950 - val_loss: 0.0299 - val_categorical_accuracy: 0.9898\n",
      "Epoch 2/10\n",
      "595/595 [==============================] - 466s 783ms/step - loss: 0.0151 - categorical_accuracy: 0.9953 - val_loss: 0.0281 - val_categorical_accuracy: 0.9909\n",
      "Epoch 3/10\n",
      "595/595 [==============================] - 466s 782ms/step - loss: 0.0117 - categorical_accuracy: 0.9959 - val_loss: 0.0318 - val_categorical_accuracy: 0.9896\n",
      "Epoch 4/10\n",
      "595/595 [==============================] - 467s 785ms/step - loss: 0.0116 - categorical_accuracy: 0.9964 - val_loss: 0.0293 - val_categorical_accuracy: 0.9907\n",
      "Epoch 5/10\n",
      "595/595 [==============================] - 466s 783ms/step - loss: 0.0105 - categorical_accuracy: 0.9964 - val_loss: 0.0276 - val_categorical_accuracy: 0.9911\n",
      "Epoch 6/10\n",
      "595/595 [==============================] - 468s 787ms/step - loss: 0.0111 - categorical_accuracy: 0.9966 - val_loss: 0.0259 - val_categorical_accuracy: 0.9917\n",
      "Epoch 7/10\n",
      "595/595 [==============================] - 465s 781ms/step - loss: 0.0115 - categorical_accuracy: 0.9965 - val_loss: 0.0264 - val_categorical_accuracy: 0.9920\n",
      "Epoch 8/10\n",
      "595/595 [==============================] - 463s 779ms/step - loss: 0.0099 - categorical_accuracy: 0.9969 - val_loss: 0.0269 - val_categorical_accuracy: 0.9909\n",
      "Epoch 9/10\n",
      "595/595 [==============================] - 463s 779ms/step - loss: 0.0083 - categorical_accuracy: 0.9973 - val_loss: 0.0285 - val_categorical_accuracy: 0.9907\n",
      "Epoch 10/10\n",
      "595/595 [==============================] - 466s 783ms/step - loss: 0.0098 - categorical_accuracy: 0.9970 - val_loss: 0.0276 - val_categorical_accuracy: 0.9903\n"
     ]
    }
   ],
   "source": [
    "model = models.load_model(str(pathlib.Path.cwd()) + \"/models/\" + \"vgg16_keras_stage_1_group.h5\")\n",
    "model.trainable = True\n",
    "\n",
    "opt = optimizers.SGD(lr=0.0005, momentum=0.9, decay=0.0005)\n",
    "\n",
    "model.compile(loss='categorical_crossentropy',\n",
    "              optimizer=opt,\n",
    "              metrics=[metrics.categorical_accuracy])\n",
    "\n",
    "history = model.fit_generator(train_generator,\n",
    "                              steps_per_epoch=595,\n",
    "                              epochs=10,\n",
    "                              validation_data=val_generator,\n",
    "                              validation_steps=83)\n",
    "\n",
    "model.save(str(pathlib.Path.cwd()) + \"/models/\" + \"vgg16_keras_stage_2_group.h5\")"
   ]
  },
  {
   "cell_type": "code",
   "execution_count": 18,
   "metadata": {},
   "outputs": [
    {
     "data": {
      "image/png": "[encoded data removed]",
      "text/plain": [
       "<Figure size 432x288 with 1 Axes>"
      ]
     },
     "metadata": {
      "needs_background": "light"
     },
     "output_type": "display_data"
    },
    {
     "data": {
      "image/png": "[encoded data removed]",
      "text/plain": [
       "<Figure size 432x288 with 1 Axes>"
      ]
     },
     "metadata": {
      "needs_background": "light"
     },
     "output_type": "display_data"
    }
   ],
   "source": [
    "acc = history.history['categorical_accuracy']\n",
    "val_acc = history.history['val_categorical_accuracy']\n",
    "loss = history.history['loss']\n",
    "val_loss = history.history['val_loss']\n",
    "epochs = range(1, len(acc) + 1)\n",
    "plt.plot(epochs, acc, 'bo', label='Training acc')\n",
    "plt.plot(epochs, val_acc, 'b', label='Validation acc')\n",
    "plt.title('Training and validation accuracy')\n",
    "plt.legend()\n",
    "plt.figure()\n",
    "plt.plot(epochs, loss, 'bo', label='Training loss')\n",
    "plt.plot(epochs, val_loss, 'b', label='Validation loss')\n",
    "plt.title('Training and validation loss')\n",
    "plt.legend()\n",
    "plt.show()"
   ]
  },
  {
   "cell_type": "code",
   "execution_count": null,
   "metadata": {},
   "outputs": [],
   "source": []
  }
 ],
 "metadata": {
  "kernelspec": {
   "display_name": "Python 3",
   "language": "python",
   "name": "python3"
  },
  "language_info": {
   "codemirror_mode": {
    "name": "ipython",
    "version": 3
   },
   "file_extension": ".py",
   "mimetype": "text/x-python",
   "name": "python",
   "nbconvert_exporter": "python",
   "pygments_lexer": "ipython3",
   "version": "3.6.7"
  },
  "toc": {
   "base_numbering": 1,
   "nav_menu": {},
   "number_sections": true,
   "sideBar": true,
   "skip_h1_title": false,
   "title_cell": "Table of Contents",
   "title_sidebar": "Contents",
   "toc_cell": false,
   "toc_position": {},
   "toc_section_display": true,
   "toc_window_display": false
  }
 },
 "nbformat": 4,
 "nbformat_minor": 2
}
